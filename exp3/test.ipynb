{
 "cells": [
  {
   "cell_type": "markdown",
   "id": "4cc041f4",
   "metadata": {},
   "source": [
    "Experiment 3\n",
    "\n",
    "Aim:-\n",
    "\n",
    "Write a python code for dealing with missing values and encoding categorical data. Apply data transformation and normalization. \n",
    "\n",
    "Objective:-\n",
    "To learn how to read/find missing values\n",
    "To learn how to replace/deal missing values\n",
    "To learn how to encode categorical data\n",
    "To learn how to perform transformation and normalization"
   ]
  },
  {
   "cell_type": "markdown",
   "id": "ee1bc525",
   "metadata": {},
   "source": [
    "Description\n",
    "\n",
    "Working with Missing Data Missing Data can occur when no information is provided for one or more items or for a whole unit. Missing Data can also refer to as NA(Not Available) values in pandas. In DataFrame sometimes many datasets simply arrive with missing data, either because it exists and was not collected or it never existed. Pandas treat None and NaN as essentially interchangeable for indicating missing or null values. To facilitate this convention, there are several useful functions for detecting, removing, and replacing null values in Pandas DataFrame :\n",
    "\n",
    "isnull()\n",
    "notnull()\n",
    "dropna()\n",
    "fillna()\n",
    "replace()\n",
    "interpolate() Now let’s look at the different methods that we can use to deal with the missing data.\n",
    "Deleting the columns with missing data\n",
    "Deleting the rows with missing data\n",
    "Filling the missing data with a value – Imputation\n",
    "Imputation with an additional column\n",
    "Filling with a Regression Model"
   ]
  },
  {
   "cell_type": "code",
   "execution_count": 1,
   "id": "9668f38c",
   "metadata": {},
   "outputs": [],
   "source": [
    "import pandas as pd\n",
    "import numpy as np"
   ]
  },
  {
   "cell_type": "code",
   "execution_count": 2,
   "id": "d7063c1a",
   "metadata": {},
   "outputs": [],
   "source": [
    "df = pd.read_csv(\"DataPrepro.csv\")"
   ]
  },
  {
   "cell_type": "code",
   "execution_count": 3,
   "id": "0d973f0d",
   "metadata": {},
   "outputs": [
    {
     "data": {
      "text/html": [
       "<div>\n",
       "<style scoped>\n",
       "    .dataframe tbody tr th:only-of-type {\n",
       "        vertical-align: middle;\n",
       "    }\n",
       "\n",
       "    .dataframe tbody tr th {\n",
       "        vertical-align: top;\n",
       "    }\n",
       "\n",
       "    .dataframe thead th {\n",
       "        text-align: right;\n",
       "    }\n",
       "</style>\n",
       "<table border=\"1\" class=\"dataframe\">\n",
       "  <thead>\n",
       "    <tr style=\"text-align: right;\">\n",
       "      <th></th>\n",
       "      <th>Id</th>\n",
       "      <th>MSSubClass</th>\n",
       "      <th>LotFrontage</th>\n",
       "      <th>LotArea</th>\n",
       "      <th>LotConfig</th>\n",
       "      <th>Neighborhood</th>\n",
       "      <th>BldgType</th>\n",
       "      <th>HouseStyle</th>\n",
       "      <th>OverallQual</th>\n",
       "      <th>OverallCond</th>\n",
       "      <th>YearBuilt</th>\n",
       "      <th>RoofStyle</th>\n",
       "      <th>TotalBsmtSF</th>\n",
       "      <th>GrLivArea</th>\n",
       "      <th>BedroomAbvGr</th>\n",
       "      <th>TotRmsAbvGrd</th>\n",
       "      <th>GarageArea</th>\n",
       "    </tr>\n",
       "  </thead>\n",
       "  <tbody>\n",
       "    <tr>\n",
       "      <th>0</th>\n",
       "      <td>1461</td>\n",
       "      <td>20.0</td>\n",
       "      <td>80</td>\n",
       "      <td>11622</td>\n",
       "      <td>Inside</td>\n",
       "      <td>NAmes</td>\n",
       "      <td>1Fam</td>\n",
       "      <td>1Story</td>\n",
       "      <td>5</td>\n",
       "      <td>6</td>\n",
       "      <td>1961</td>\n",
       "      <td>Gable</td>\n",
       "      <td>882.0</td>\n",
       "      <td>896</td>\n",
       "      <td>2</td>\n",
       "      <td>5</td>\n",
       "      <td>730.0</td>\n",
       "    </tr>\n",
       "    <tr>\n",
       "      <th>1</th>\n",
       "      <td>1462</td>\n",
       "      <td>20.0</td>\n",
       "      <td>##</td>\n",
       "      <td>14267</td>\n",
       "      <td>Corner</td>\n",
       "      <td>NAmes</td>\n",
       "      <td>1Fam</td>\n",
       "      <td>1Story</td>\n",
       "      <td>6</td>\n",
       "      <td>6</td>\n",
       "      <td>1958</td>\n",
       "      <td>Hip</td>\n",
       "      <td>1329.0</td>\n",
       "      <td>1329</td>\n",
       "      <td>3</td>\n",
       "      <td>6</td>\n",
       "      <td>312.0</td>\n",
       "    </tr>\n",
       "    <tr>\n",
       "      <th>2</th>\n",
       "      <td>1463</td>\n",
       "      <td>60.0</td>\n",
       "      <td>74</td>\n",
       "      <td>13830</td>\n",
       "      <td>Inside</td>\n",
       "      <td>Gilbert</td>\n",
       "      <td>1Fam</td>\n",
       "      <td>2Story</td>\n",
       "      <td>NaN</td>\n",
       "      <td>5</td>\n",
       "      <td>1997</td>\n",
       "      <td>Gable</td>\n",
       "      <td>928.0</td>\n",
       "      <td>1629</td>\n",
       "      <td>3</td>\n",
       "      <td>6</td>\n",
       "      <td>482.0</td>\n",
       "    </tr>\n",
       "    <tr>\n",
       "      <th>3</th>\n",
       "      <td>1464</td>\n",
       "      <td>60.0</td>\n",
       "      <td>78</td>\n",
       "      <td>9978</td>\n",
       "      <td>Inside</td>\n",
       "      <td>Gilbert</td>\n",
       "      <td>Na</td>\n",
       "      <td>?</td>\n",
       "      <td>6</td>\n",
       "      <td>6</td>\n",
       "      <td>1998</td>\n",
       "      <td>#</td>\n",
       "      <td>926.0</td>\n",
       "      <td>1604</td>\n",
       "      <td>3</td>\n",
       "      <td>7</td>\n",
       "      <td>470.0</td>\n",
       "    </tr>\n",
       "    <tr>\n",
       "      <th>4</th>\n",
       "      <td>1465</td>\n",
       "      <td>120.0</td>\n",
       "      <td>43</td>\n",
       "      <td>5005</td>\n",
       "      <td>Inside</td>\n",
       "      <td>StoneBr</td>\n",
       "      <td>TwnhsE</td>\n",
       "      <td>1Story</td>\n",
       "      <td>8</td>\n",
       "      <td>Nan</td>\n",
       "      <td>1992</td>\n",
       "      <td>Gable</td>\n",
       "      <td>1280.0</td>\n",
       "      <td>1280</td>\n",
       "      <td>2</td>\n",
       "      <td>5</td>\n",
       "      <td>506.0</td>\n",
       "    </tr>\n",
       "  </tbody>\n",
       "</table>\n",
       "</div>"
      ],
      "text/plain": [
       "     Id  MSSubClass LotFrontage  LotArea LotConfig Neighborhood BldgType  \\\n",
       "0  1461        20.0          80    11622    Inside        NAmes     1Fam   \n",
       "1  1462        20.0          ##    14267    Corner        NAmes     1Fam   \n",
       "2  1463        60.0          74    13830    Inside      Gilbert     1Fam   \n",
       "3  1464        60.0          78     9978    Inside      Gilbert       Na   \n",
       "4  1465       120.0          43     5005    Inside      StoneBr   TwnhsE   \n",
       "\n",
       "  HouseStyle OverallQual OverallCond  YearBuilt RoofStyle  TotalBsmtSF  \\\n",
       "0     1Story           5           6       1961     Gable        882.0   \n",
       "1     1Story           6           6       1958       Hip       1329.0   \n",
       "2     2Story         NaN           5       1997     Gable        928.0   \n",
       "3          ?           6           6       1998         #        926.0   \n",
       "4     1Story           8         Nan       1992     Gable       1280.0   \n",
       "\n",
       "   GrLivArea BedroomAbvGr  TotRmsAbvGrd  GarageArea  \n",
       "0        896            2             5       730.0  \n",
       "1       1329            3             6       312.0  \n",
       "2       1629            3             6       482.0  \n",
       "3       1604            3             7       470.0  \n",
       "4       1280            2             5       506.0  "
      ]
     },
     "execution_count": 3,
     "metadata": {},
     "output_type": "execute_result"
    }
   ],
   "source": [
    "df.head()"
   ]
  },
  {
   "cell_type": "code",
   "execution_count": 4,
   "id": "629a3d98",
   "metadata": {},
   "outputs": [
    {
     "data": {
      "text/plain": [
       "Id                0\n",
       "MSSubClass        3\n",
       "LotFrontage     227\n",
       "LotArea           0\n",
       "LotConfig         0\n",
       "Neighborhood      0\n",
       "BldgType          0\n",
       "HouseStyle        0\n",
       "OverallQual       4\n",
       "OverallCond       0\n",
       "YearBuilt         0\n",
       "RoofStyle         0\n",
       "TotalBsmtSF       1\n",
       "GrLivArea         0\n",
       "BedroomAbvGr      0\n",
       "TotRmsAbvGrd      0\n",
       "GarageArea        1\n",
       "dtype: int64"
      ]
     },
     "execution_count": 4,
     "metadata": {},
     "output_type": "execute_result"
    }
   ],
   "source": [
    "df.isnull().sum()"
   ]
  },
  {
   "cell_type": "code",
   "execution_count": 5,
   "id": "4a7fb838",
   "metadata": {},
   "outputs": [
    {
     "data": {
      "text/plain": [
       "Id                int64\n",
       "MSSubClass      float64\n",
       "LotFrontage      object\n",
       "LotArea           int64\n",
       "LotConfig        object\n",
       "Neighborhood     object\n",
       "BldgType         object\n",
       "HouseStyle       object\n",
       "OverallQual      object\n",
       "OverallCond      object\n",
       "YearBuilt         int64\n",
       "RoofStyle        object\n",
       "TotalBsmtSF     float64\n",
       "GrLivArea         int64\n",
       "BedroomAbvGr     object\n",
       "TotRmsAbvGrd      int64\n",
       "GarageArea      float64\n",
       "dtype: object"
      ]
     },
     "execution_count": 5,
     "metadata": {},
     "output_type": "execute_result"
    }
   ],
   "source": [
    "df.dtypes"
   ]
  },
  {
   "cell_type": "code",
   "execution_count": 6,
   "id": "9d56a680",
   "metadata": {},
   "outputs": [
    {
     "name": "stdout",
     "output_type": "stream",
     "text": [
      "<class 'pandas.core.frame.DataFrame'>\n",
      "RangeIndex: 1459 entries, 0 to 1458\n",
      "Data columns (total 17 columns):\n",
      " #   Column        Non-Null Count  Dtype  \n",
      "---  ------        --------------  -----  \n",
      " 0   Id            1459 non-null   int64  \n",
      " 1   MSSubClass    1456 non-null   float64\n",
      " 2   LotFrontage   1232 non-null   object \n",
      " 3   LotArea       1459 non-null   int64  \n",
      " 4   LotConfig     1459 non-null   object \n",
      " 5   Neighborhood  1459 non-null   object \n",
      " 6   BldgType      1459 non-null   object \n",
      " 7   HouseStyle    1459 non-null   object \n",
      " 8   OverallQual   1455 non-null   object \n",
      " 9   OverallCond   1459 non-null   object \n",
      " 10  YearBuilt     1459 non-null   int64  \n",
      " 11  RoofStyle     1459 non-null   object \n",
      " 12  TotalBsmtSF   1458 non-null   float64\n",
      " 13  GrLivArea     1459 non-null   int64  \n",
      " 14  BedroomAbvGr  1459 non-null   object \n",
      " 15  TotRmsAbvGrd  1459 non-null   int64  \n",
      " 16  GarageArea    1458 non-null   float64\n",
      "dtypes: float64(3), int64(5), object(9)\n",
      "memory usage: 193.9+ KB\n"
     ]
    }
   ],
   "source": [
    "df.info()"
   ]
  },
  {
   "cell_type": "markdown",
   "id": "85434bce",
   "metadata": {},
   "source": [
    "Concise:-\n",
    "\n",
    "By above analysis using info(), dtypes(), isnull() we can see that data contains missing values and some entries are having special characters/wrong data instead of empty cells.\n",
    "\n",
    "Now using uqique function at every column, we can check special characters/wrong data and we can replace these with NaN."
   ]
  },
  {
   "cell_type": "code",
   "execution_count": 7,
   "id": "c1ec6fb1",
   "metadata": {},
   "outputs": [
    {
     "data": {
      "text/html": [
       "<div>\n",
       "<style scoped>\n",
       "    .dataframe tbody tr th:only-of-type {\n",
       "        vertical-align: middle;\n",
       "    }\n",
       "\n",
       "    .dataframe tbody tr th {\n",
       "        vertical-align: top;\n",
       "    }\n",
       "\n",
       "    .dataframe thead th {\n",
       "        text-align: right;\n",
       "    }\n",
       "</style>\n",
       "<table border=\"1\" class=\"dataframe\">\n",
       "  <thead>\n",
       "    <tr style=\"text-align: right;\">\n",
       "      <th></th>\n",
       "      <th>Id</th>\n",
       "      <th>MSSubClass</th>\n",
       "      <th>LotFrontage</th>\n",
       "      <th>LotArea</th>\n",
       "      <th>LotConfig</th>\n",
       "      <th>Neighborhood</th>\n",
       "      <th>BldgType</th>\n",
       "      <th>HouseStyle</th>\n",
       "      <th>OverallQual</th>\n",
       "      <th>OverallCond</th>\n",
       "      <th>YearBuilt</th>\n",
       "      <th>RoofStyle</th>\n",
       "      <th>TotalBsmtSF</th>\n",
       "      <th>GrLivArea</th>\n",
       "      <th>BedroomAbvGr</th>\n",
       "      <th>TotRmsAbvGrd</th>\n",
       "      <th>GarageArea</th>\n",
       "    </tr>\n",
       "  </thead>\n",
       "  <tbody>\n",
       "    <tr>\n",
       "      <th>0</th>\n",
       "      <td>1461</td>\n",
       "      <td>20.0</td>\n",
       "      <td>80</td>\n",
       "      <td>11622</td>\n",
       "      <td>Inside</td>\n",
       "      <td>NAmes</td>\n",
       "      <td>1Fam</td>\n",
       "      <td>1Story</td>\n",
       "      <td>5</td>\n",
       "      <td>6</td>\n",
       "      <td>1961</td>\n",
       "      <td>Gable</td>\n",
       "      <td>882.0</td>\n",
       "      <td>896</td>\n",
       "      <td>2</td>\n",
       "      <td>5</td>\n",
       "      <td>730.0</td>\n",
       "    </tr>\n",
       "    <tr>\n",
       "      <th>1</th>\n",
       "      <td>1462</td>\n",
       "      <td>20.0</td>\n",
       "      <td>##</td>\n",
       "      <td>14267</td>\n",
       "      <td>Corner</td>\n",
       "      <td>NAmes</td>\n",
       "      <td>1Fam</td>\n",
       "      <td>1Story</td>\n",
       "      <td>6</td>\n",
       "      <td>6</td>\n",
       "      <td>1958</td>\n",
       "      <td>Hip</td>\n",
       "      <td>1329.0</td>\n",
       "      <td>1329</td>\n",
       "      <td>3</td>\n",
       "      <td>6</td>\n",
       "      <td>312.0</td>\n",
       "    </tr>\n",
       "    <tr>\n",
       "      <th>2</th>\n",
       "      <td>1463</td>\n",
       "      <td>60.0</td>\n",
       "      <td>74</td>\n",
       "      <td>13830</td>\n",
       "      <td>Inside</td>\n",
       "      <td>Gilbert</td>\n",
       "      <td>1Fam</td>\n",
       "      <td>2Story</td>\n",
       "      <td>NaN</td>\n",
       "      <td>5</td>\n",
       "      <td>1997</td>\n",
       "      <td>Gable</td>\n",
       "      <td>928.0</td>\n",
       "      <td>1629</td>\n",
       "      <td>3</td>\n",
       "      <td>6</td>\n",
       "      <td>482.0</td>\n",
       "    </tr>\n",
       "    <tr>\n",
       "      <th>3</th>\n",
       "      <td>1464</td>\n",
       "      <td>60.0</td>\n",
       "      <td>78</td>\n",
       "      <td>9978</td>\n",
       "      <td>Inside</td>\n",
       "      <td>Gilbert</td>\n",
       "      <td>Na</td>\n",
       "      <td>?</td>\n",
       "      <td>6</td>\n",
       "      <td>6</td>\n",
       "      <td>1998</td>\n",
       "      <td>#</td>\n",
       "      <td>926.0</td>\n",
       "      <td>1604</td>\n",
       "      <td>3</td>\n",
       "      <td>7</td>\n",
       "      <td>470.0</td>\n",
       "    </tr>\n",
       "    <tr>\n",
       "      <th>4</th>\n",
       "      <td>1465</td>\n",
       "      <td>120.0</td>\n",
       "      <td>43</td>\n",
       "      <td>5005</td>\n",
       "      <td>Inside</td>\n",
       "      <td>StoneBr</td>\n",
       "      <td>TwnhsE</td>\n",
       "      <td>1Story</td>\n",
       "      <td>8</td>\n",
       "      <td>Nan</td>\n",
       "      <td>1992</td>\n",
       "      <td>Gable</td>\n",
       "      <td>1280.0</td>\n",
       "      <td>1280</td>\n",
       "      <td>2</td>\n",
       "      <td>5</td>\n",
       "      <td>506.0</td>\n",
       "    </tr>\n",
       "  </tbody>\n",
       "</table>\n",
       "</div>"
      ],
      "text/plain": [
       "     Id  MSSubClass LotFrontage  LotArea LotConfig Neighborhood BldgType  \\\n",
       "0  1461        20.0          80    11622    Inside        NAmes     1Fam   \n",
       "1  1462        20.0          ##    14267    Corner        NAmes     1Fam   \n",
       "2  1463        60.0          74    13830    Inside      Gilbert     1Fam   \n",
       "3  1464        60.0          78     9978    Inside      Gilbert       Na   \n",
       "4  1465       120.0          43     5005    Inside      StoneBr   TwnhsE   \n",
       "\n",
       "  HouseStyle OverallQual OverallCond  YearBuilt RoofStyle  TotalBsmtSF  \\\n",
       "0     1Story           5           6       1961     Gable        882.0   \n",
       "1     1Story           6           6       1958       Hip       1329.0   \n",
       "2     2Story         NaN           5       1997     Gable        928.0   \n",
       "3          ?           6           6       1998         #        926.0   \n",
       "4     1Story           8         Nan       1992     Gable       1280.0   \n",
       "\n",
       "   GrLivArea BedroomAbvGr  TotRmsAbvGrd  GarageArea  \n",
       "0        896            2             5       730.0  \n",
       "1       1329            3             6       312.0  \n",
       "2       1629            3             6       482.0  \n",
       "3       1604            3             7       470.0  \n",
       "4       1280            2             5       506.0  "
      ]
     },
     "execution_count": 7,
     "metadata": {},
     "output_type": "execute_result"
    }
   ],
   "source": [
    "df.head()"
   ]
  },
  {
   "cell_type": "code",
   "execution_count": 8,
   "id": "bec8353c",
   "metadata": {},
   "outputs": [
    {
     "data": {
      "text/plain": [
       "array([ 20.,  30.,  40.,  45.,  50.,  60.,  70.,  75.,  80.,  85.,  90.,\n",
       "       120., 150., 160., 180., 190., 590., 620.,  nan])"
      ]
     },
     "execution_count": 8,
     "metadata": {},
     "output_type": "execute_result"
    }
   ],
   "source": [
    "np.unique(df['MSSubClass'])"
   ]
  },
  {
   "cell_type": "code",
   "execution_count": 9,
   "id": "f1dda6a8",
   "metadata": {},
   "outputs": [
    {
     "data": {
      "text/plain": [
       "array(['Corner', 'CulDSac', 'FR2', 'FR3', 'Inside'], dtype=object)"
      ]
     },
     "execution_count": 9,
     "metadata": {},
     "output_type": "execute_result"
    }
   ],
   "source": [
    "np.unique(df['LotConfig'])"
   ]
  },
  {
   "cell_type": "code",
   "execution_count": 10,
   "id": "477fe147",
   "metadata": {},
   "outputs": [
    {
     "data": {
      "text/plain": [
       "array(['1.5Fin', '1.5Unf', '1Story', '2.5Unf', '2Story', ':-', '?',\n",
       "       'SFoyer', 'SLvl', '__'], dtype=object)"
      ]
     },
     "execution_count": 10,
     "metadata": {},
     "output_type": "execute_result"
    }
   ],
   "source": [
    "np.unique(df['HouseStyle'])"
   ]
  },
  {
   "cell_type": "markdown",
   "id": "da09e9a8",
   "metadata": {},
   "source": [
    "Here we have special characters or wrong data like ':-', '?', '__' so identify all such wrong data and replace with NaN"
   ]
  },
  {
   "cell_type": "code",
   "execution_count": 11,
   "id": "459893a6",
   "metadata": {},
   "outputs": [],
   "source": [
    "df.replace([':-', '?', '__', '_', '#', \"##\", 'Na', 'Nan'], np.nan, inplace = True)"
   ]
  },
  {
   "cell_type": "code",
   "execution_count": 12,
   "id": "d8100575",
   "metadata": {},
   "outputs": [
    {
     "data": {
      "text/html": [
       "<div>\n",
       "<style scoped>\n",
       "    .dataframe tbody tr th:only-of-type {\n",
       "        vertical-align: middle;\n",
       "    }\n",
       "\n",
       "    .dataframe tbody tr th {\n",
       "        vertical-align: top;\n",
       "    }\n",
       "\n",
       "    .dataframe thead th {\n",
       "        text-align: right;\n",
       "    }\n",
       "</style>\n",
       "<table border=\"1\" class=\"dataframe\">\n",
       "  <thead>\n",
       "    <tr style=\"text-align: right;\">\n",
       "      <th></th>\n",
       "      <th>Id</th>\n",
       "      <th>MSSubClass</th>\n",
       "      <th>LotFrontage</th>\n",
       "      <th>LotArea</th>\n",
       "      <th>LotConfig</th>\n",
       "      <th>Neighborhood</th>\n",
       "      <th>BldgType</th>\n",
       "      <th>HouseStyle</th>\n",
       "      <th>OverallQual</th>\n",
       "      <th>OverallCond</th>\n",
       "      <th>YearBuilt</th>\n",
       "      <th>RoofStyle</th>\n",
       "      <th>TotalBsmtSF</th>\n",
       "      <th>GrLivArea</th>\n",
       "      <th>BedroomAbvGr</th>\n",
       "      <th>TotRmsAbvGrd</th>\n",
       "      <th>GarageArea</th>\n",
       "    </tr>\n",
       "  </thead>\n",
       "  <tbody>\n",
       "    <tr>\n",
       "      <th>0</th>\n",
       "      <td>1461</td>\n",
       "      <td>20.0</td>\n",
       "      <td>80</td>\n",
       "      <td>11622</td>\n",
       "      <td>Inside</td>\n",
       "      <td>NAmes</td>\n",
       "      <td>1Fam</td>\n",
       "      <td>1Story</td>\n",
       "      <td>5</td>\n",
       "      <td>6</td>\n",
       "      <td>1961</td>\n",
       "      <td>Gable</td>\n",
       "      <td>882.0</td>\n",
       "      <td>896</td>\n",
       "      <td>2</td>\n",
       "      <td>5</td>\n",
       "      <td>730.0</td>\n",
       "    </tr>\n",
       "    <tr>\n",
       "      <th>1</th>\n",
       "      <td>1462</td>\n",
       "      <td>20.0</td>\n",
       "      <td>NaN</td>\n",
       "      <td>14267</td>\n",
       "      <td>Corner</td>\n",
       "      <td>NAmes</td>\n",
       "      <td>1Fam</td>\n",
       "      <td>1Story</td>\n",
       "      <td>6</td>\n",
       "      <td>6</td>\n",
       "      <td>1958</td>\n",
       "      <td>Hip</td>\n",
       "      <td>1329.0</td>\n",
       "      <td>1329</td>\n",
       "      <td>3</td>\n",
       "      <td>6</td>\n",
       "      <td>312.0</td>\n",
       "    </tr>\n",
       "    <tr>\n",
       "      <th>2</th>\n",
       "      <td>1463</td>\n",
       "      <td>60.0</td>\n",
       "      <td>74</td>\n",
       "      <td>13830</td>\n",
       "      <td>Inside</td>\n",
       "      <td>Gilbert</td>\n",
       "      <td>1Fam</td>\n",
       "      <td>2Story</td>\n",
       "      <td>NaN</td>\n",
       "      <td>5</td>\n",
       "      <td>1997</td>\n",
       "      <td>Gable</td>\n",
       "      <td>928.0</td>\n",
       "      <td>1629</td>\n",
       "      <td>3</td>\n",
       "      <td>6</td>\n",
       "      <td>482.0</td>\n",
       "    </tr>\n",
       "    <tr>\n",
       "      <th>3</th>\n",
       "      <td>1464</td>\n",
       "      <td>60.0</td>\n",
       "      <td>78</td>\n",
       "      <td>9978</td>\n",
       "      <td>Inside</td>\n",
       "      <td>Gilbert</td>\n",
       "      <td>NaN</td>\n",
       "      <td>NaN</td>\n",
       "      <td>6</td>\n",
       "      <td>6</td>\n",
       "      <td>1998</td>\n",
       "      <td>NaN</td>\n",
       "      <td>926.0</td>\n",
       "      <td>1604</td>\n",
       "      <td>3</td>\n",
       "      <td>7</td>\n",
       "      <td>470.0</td>\n",
       "    </tr>\n",
       "    <tr>\n",
       "      <th>4</th>\n",
       "      <td>1465</td>\n",
       "      <td>120.0</td>\n",
       "      <td>43</td>\n",
       "      <td>5005</td>\n",
       "      <td>Inside</td>\n",
       "      <td>StoneBr</td>\n",
       "      <td>TwnhsE</td>\n",
       "      <td>1Story</td>\n",
       "      <td>8</td>\n",
       "      <td>NaN</td>\n",
       "      <td>1992</td>\n",
       "      <td>Gable</td>\n",
       "      <td>1280.0</td>\n",
       "      <td>1280</td>\n",
       "      <td>2</td>\n",
       "      <td>5</td>\n",
       "      <td>506.0</td>\n",
       "    </tr>\n",
       "  </tbody>\n",
       "</table>\n",
       "</div>"
      ],
      "text/plain": [
       "     Id  MSSubClass LotFrontage  LotArea LotConfig Neighborhood BldgType  \\\n",
       "0  1461        20.0          80    11622    Inside        NAmes     1Fam   \n",
       "1  1462        20.0         NaN    14267    Corner        NAmes     1Fam   \n",
       "2  1463        60.0          74    13830    Inside      Gilbert     1Fam   \n",
       "3  1464        60.0          78     9978    Inside      Gilbert      NaN   \n",
       "4  1465       120.0          43     5005    Inside      StoneBr   TwnhsE   \n",
       "\n",
       "  HouseStyle OverallQual OverallCond  YearBuilt RoofStyle  TotalBsmtSF  \\\n",
       "0     1Story           5           6       1961     Gable        882.0   \n",
       "1     1Story           6           6       1958       Hip       1329.0   \n",
       "2     2Story         NaN           5       1997     Gable        928.0   \n",
       "3        NaN           6           6       1998       NaN        926.0   \n",
       "4     1Story           8         NaN       1992     Gable       1280.0   \n",
       "\n",
       "   GrLivArea BedroomAbvGr  TotRmsAbvGrd  GarageArea  \n",
       "0        896            2             5       730.0  \n",
       "1       1329            3             6       312.0  \n",
       "2       1629            3             6       482.0  \n",
       "3       1604            3             7       470.0  \n",
       "4       1280            2             5       506.0  "
      ]
     },
     "execution_count": 12,
     "metadata": {},
     "output_type": "execute_result"
    }
   ],
   "source": [
    "df.head()"
   ]
  },
  {
   "cell_type": "markdown",
   "id": "b5824333",
   "metadata": {},
   "source": [
    "As we can see all special characters or wrong data have been replaced by NaN, now we can apply drop/mean/median/mode/regression according to the requirement."
   ]
  },
  {
   "cell_type": "code",
   "execution_count": 13,
   "id": "9caf5982",
   "metadata": {},
   "outputs": [
    {
     "data": {
      "text/plain": [
       "Id                0\n",
       "MSSubClass        3\n",
       "LotFrontage     228\n",
       "LotArea           0\n",
       "LotConfig         0\n",
       "Neighborhood      0\n",
       "BldgType          1\n",
       "HouseStyle        4\n",
       "OverallQual       5\n",
       "OverallCond       1\n",
       "YearBuilt         0\n",
       "RoofStyle         1\n",
       "TotalBsmtSF       1\n",
       "GrLivArea         0\n",
       "BedroomAbvGr      2\n",
       "TotRmsAbvGrd      0\n",
       "GarageArea        1\n",
       "dtype: int64"
      ]
     },
     "execution_count": 13,
     "metadata": {},
     "output_type": "execute_result"
    }
   ],
   "source": [
    "df.isnull().sum()"
   ]
  },
  {
   "cell_type": "code",
   "execution_count": 14,
   "id": "3b3f0925",
   "metadata": {},
   "outputs": [
    {
     "name": "stderr",
     "output_type": "stream",
     "text": [
      "/tmp/ipykernel_219456/2408455208.py:1: FutureWarning: Calling int on a single element Series is deprecated and will raise a TypeError in the future. Use int(ser.iloc[0]) instead\n",
      "  df['MSSubClass'].fillna(int(df['MSSubClass'].mode()), inplace=True)\n"
     ]
    }
   ],
   "source": [
    "df['MSSubClass'].fillna(int(df['MSSubClass'].mode()), inplace=True)"
   ]
  },
  {
   "cell_type": "code",
   "execution_count": 15,
   "id": "d639e012",
   "metadata": {},
   "outputs": [
    {
     "name": "stderr",
     "output_type": "stream",
     "text": [
      "/tmp/ipykernel_219456/4050795560.py:1: FutureWarning: Calling int on a single element Series is deprecated and will raise a TypeError in the future. Use int(ser.iloc[0]) instead\n",
      "  df['LotFrontage'].fillna(int(df['LotFrontage'].mode()), inplace=True)\n"
     ]
    }
   ],
   "source": [
    "df['LotFrontage'].fillna(int(df['LotFrontage'].mode()), inplace=True)"
   ]
  },
  {
   "cell_type": "code",
   "execution_count": 16,
   "id": "f51dc0f8",
   "metadata": {},
   "outputs": [],
   "source": [
    "df['BldgType'].fillna('1Fam', inplace=True)"
   ]
  },
  {
   "cell_type": "code",
   "execution_count": 17,
   "id": "1e0c72d5",
   "metadata": {},
   "outputs": [],
   "source": [
    "df['HouseStyle'].fillna('1Story', inplace=True)"
   ]
  },
  {
   "cell_type": "code",
   "execution_count": 18,
   "id": "a8286e1c",
   "metadata": {},
   "outputs": [
    {
     "name": "stderr",
     "output_type": "stream",
     "text": [
      "/tmp/ipykernel_219456/4168726919.py:1: FutureWarning: Calling int on a single element Series is deprecated and will raise a TypeError in the future. Use int(ser.iloc[0]) instead\n",
      "  df['OverallQual'].fillna(int(df['OverallQual'].mode()), inplace=True)\n"
     ]
    }
   ],
   "source": [
    "df['OverallQual'].fillna(int(df['OverallQual'].mode()), inplace=True)"
   ]
  },
  {
   "cell_type": "code",
   "execution_count": 19,
   "id": "ddc53dc3",
   "metadata": {},
   "outputs": [
    {
     "name": "stderr",
     "output_type": "stream",
     "text": [
      "/tmp/ipykernel_219456/2403122257.py:1: FutureWarning: Calling int on a single element Series is deprecated and will raise a TypeError in the future. Use int(ser.iloc[0]) instead\n",
      "  df['OverallCond'].fillna(int(df['OverallCond'].mode()), inplace=True)\n"
     ]
    }
   ],
   "source": [
    "df['OverallCond'].fillna(int(df['OverallCond'].mode()), inplace=True)"
   ]
  },
  {
   "cell_type": "code",
   "execution_count": 20,
   "id": "c2db9c16",
   "metadata": {},
   "outputs": [],
   "source": [
    "df['RoofStyle'].fillna('Gable', inplace=True)"
   ]
  },
  {
   "cell_type": "code",
   "execution_count": 21,
   "id": "28f373c9",
   "metadata": {},
   "outputs": [],
   "source": [
    "df['TotalBsmtSF'].fillna(int(df['TotalBsmtSF'].mean()), inplace=True)"
   ]
  },
  {
   "cell_type": "code",
   "execution_count": 22,
   "id": "15c6eb02",
   "metadata": {},
   "outputs": [
    {
     "name": "stderr",
     "output_type": "stream",
     "text": [
      "/tmp/ipykernel_219456/3200167329.py:1: FutureWarning: Calling int on a single element Series is deprecated and will raise a TypeError in the future. Use int(ser.iloc[0]) instead\n",
      "  df['BedroomAbvGr'].fillna(int(df['BedroomAbvGr'].mode()), inplace=True)\n"
     ]
    }
   ],
   "source": [
    "df['BedroomAbvGr'].fillna(int(df['BedroomAbvGr'].mode()), inplace=True)"
   ]
  },
  {
   "cell_type": "code",
   "execution_count": 23,
   "id": "c7e0a55e",
   "metadata": {},
   "outputs": [],
   "source": [
    "df['GarageArea'].fillna(int(df['GarageArea'].mean()), inplace=True)"
   ]
  },
  {
   "cell_type": "code",
   "execution_count": 24,
   "id": "b414d8e4",
   "metadata": {},
   "outputs": [
    {
     "data": {
      "text/plain": [
       "Id              0\n",
       "MSSubClass      0\n",
       "LotFrontage     0\n",
       "LotArea         0\n",
       "LotConfig       0\n",
       "Neighborhood    0\n",
       "BldgType        0\n",
       "HouseStyle      0\n",
       "OverallQual     0\n",
       "OverallCond     0\n",
       "YearBuilt       0\n",
       "RoofStyle       0\n",
       "TotalBsmtSF     0\n",
       "GrLivArea       0\n",
       "BedroomAbvGr    0\n",
       "TotRmsAbvGrd    0\n",
       "GarageArea      0\n",
       "dtype: int64"
      ]
     },
     "execution_count": 24,
     "metadata": {},
     "output_type": "execute_result"
    }
   ],
   "source": [
    "df.isnull().sum()"
   ]
  },
  {
   "cell_type": "markdown",
   "id": "75e10243",
   "metadata": {},
   "source": [
    "Now there is no Null Values, now convert object dtype into int64 or float64"
   ]
  },
  {
   "cell_type": "code",
   "execution_count": 25,
   "id": "d2ced392",
   "metadata": {},
   "outputs": [
    {
     "name": "stdout",
     "output_type": "stream",
     "text": [
      "<class 'pandas.core.frame.DataFrame'>\n",
      "RangeIndex: 1459 entries, 0 to 1458\n",
      "Data columns (total 17 columns):\n",
      " #   Column        Non-Null Count  Dtype  \n",
      "---  ------        --------------  -----  \n",
      " 0   Id            1459 non-null   int64  \n",
      " 1   MSSubClass    1459 non-null   float64\n",
      " 2   LotFrontage   1459 non-null   object \n",
      " 3   LotArea       1459 non-null   int64  \n",
      " 4   LotConfig     1459 non-null   object \n",
      " 5   Neighborhood  1459 non-null   object \n",
      " 6   BldgType      1459 non-null   object \n",
      " 7   HouseStyle    1459 non-null   object \n",
      " 8   OverallQual   1459 non-null   object \n",
      " 9   OverallCond   1459 non-null   object \n",
      " 10  YearBuilt     1459 non-null   int64  \n",
      " 11  RoofStyle     1459 non-null   object \n",
      " 12  TotalBsmtSF   1459 non-null   float64\n",
      " 13  GrLivArea     1459 non-null   int64  \n",
      " 14  BedroomAbvGr  1459 non-null   object \n",
      " 15  TotRmsAbvGrd  1459 non-null   int64  \n",
      " 16  GarageArea    1459 non-null   float64\n",
      "dtypes: float64(3), int64(5), object(9)\n",
      "memory usage: 193.9+ KB\n"
     ]
    }
   ],
   "source": [
    "df.info()"
   ]
  },
  {
   "cell_type": "code",
   "execution_count": 26,
   "id": "2e22d077",
   "metadata": {},
   "outputs": [],
   "source": [
    "df['LotFrontage']=df['LotFrontage'].astype('int64')"
   ]
  },
  {
   "cell_type": "code",
   "execution_count": 27,
   "id": "edad19a9",
   "metadata": {},
   "outputs": [],
   "source": [
    "df['OverallQual']=df['OverallQual'].astype('int64')"
   ]
  },
  {
   "cell_type": "code",
   "execution_count": 28,
   "id": "16b16361",
   "metadata": {},
   "outputs": [],
   "source": [
    "df['OverallCond']=df['OverallCond'].astype('int64')"
   ]
  },
  {
   "cell_type": "code",
   "execution_count": 29,
   "id": "d60eccae",
   "metadata": {},
   "outputs": [],
   "source": [
    "df['BedroomAbvGr']=df['BedroomAbvGr'].astype('int64')"
   ]
  },
  {
   "cell_type": "code",
   "execution_count": 30,
   "id": "e207e274",
   "metadata": {},
   "outputs": [],
   "source": [
    "from sklearn.preprocessing import LabelEncoder\n",
    "label_encoder = LabelEncoder()"
   ]
  },
  {
   "cell_type": "code",
   "execution_count": 31,
   "id": "752515fb",
   "metadata": {},
   "outputs": [
    {
     "name": "stderr",
     "output_type": "stream",
     "text": [
      "/home/hk/anaconda3/lib/python3.11/site-packages/sklearn/utils/validation.py:605: FutureWarning: is_sparse is deprecated and will be removed in a future version. Check `isinstance(dtype, pd.SparseDtype)` instead.\n",
      "  if is_sparse(pd_dtype):\n",
      "/home/hk/anaconda3/lib/python3.11/site-packages/sklearn/utils/validation.py:614: FutureWarning: is_sparse is deprecated and will be removed in a future version. Check `isinstance(dtype, pd.SparseDtype)` instead.\n",
      "  if is_sparse(pd_dtype) or not is_extension_array_dtype(pd_dtype):\n"
     ]
    }
   ],
   "source": [
    "df['LotConfig'] = label_encoder.fit_transform(df['LotConfig'])"
   ]
  },
  {
   "cell_type": "code",
   "execution_count": 32,
   "id": "48415c18",
   "metadata": {},
   "outputs": [
    {
     "name": "stderr",
     "output_type": "stream",
     "text": [
      "/home/hk/anaconda3/lib/python3.11/site-packages/sklearn/utils/validation.py:605: FutureWarning: is_sparse is deprecated and will be removed in a future version. Check `isinstance(dtype, pd.SparseDtype)` instead.\n",
      "  if is_sparse(pd_dtype):\n",
      "/home/hk/anaconda3/lib/python3.11/site-packages/sklearn/utils/validation.py:614: FutureWarning: is_sparse is deprecated and will be removed in a future version. Check `isinstance(dtype, pd.SparseDtype)` instead.\n",
      "  if is_sparse(pd_dtype) or not is_extension_array_dtype(pd_dtype):\n"
     ]
    }
   ],
   "source": [
    "df['Neighborhood'] = label_encoder.fit_transform(df['Neighborhood'])"
   ]
  },
  {
   "cell_type": "code",
   "execution_count": 33,
   "id": "d06ac9cc",
   "metadata": {},
   "outputs": [
    {
     "name": "stderr",
     "output_type": "stream",
     "text": [
      "/home/hk/anaconda3/lib/python3.11/site-packages/sklearn/utils/validation.py:605: FutureWarning: is_sparse is deprecated and will be removed in a future version. Check `isinstance(dtype, pd.SparseDtype)` instead.\n",
      "  if is_sparse(pd_dtype):\n",
      "/home/hk/anaconda3/lib/python3.11/site-packages/sklearn/utils/validation.py:614: FutureWarning: is_sparse is deprecated and will be removed in a future version. Check `isinstance(dtype, pd.SparseDtype)` instead.\n",
      "  if is_sparse(pd_dtype) or not is_extension_array_dtype(pd_dtype):\n"
     ]
    }
   ],
   "source": [
    "df['BldgType'] = label_encoder.fit_transform(df['BldgType'])"
   ]
  },
  {
   "cell_type": "code",
   "execution_count": 34,
   "id": "fe7c1385",
   "metadata": {},
   "outputs": [
    {
     "name": "stderr",
     "output_type": "stream",
     "text": [
      "/home/hk/anaconda3/lib/python3.11/site-packages/sklearn/utils/validation.py:605: FutureWarning: is_sparse is deprecated and will be removed in a future version. Check `isinstance(dtype, pd.SparseDtype)` instead.\n",
      "  if is_sparse(pd_dtype):\n",
      "/home/hk/anaconda3/lib/python3.11/site-packages/sklearn/utils/validation.py:614: FutureWarning: is_sparse is deprecated and will be removed in a future version. Check `isinstance(dtype, pd.SparseDtype)` instead.\n",
      "  if is_sparse(pd_dtype) or not is_extension_array_dtype(pd_dtype):\n"
     ]
    }
   ],
   "source": [
    "df['HouseStyle'] = label_encoder.fit_transform(df['HouseStyle'])"
   ]
  },
  {
   "cell_type": "code",
   "execution_count": 35,
   "id": "518fa06c",
   "metadata": {},
   "outputs": [
    {
     "name": "stderr",
     "output_type": "stream",
     "text": [
      "/home/hk/anaconda3/lib/python3.11/site-packages/sklearn/utils/validation.py:605: FutureWarning: is_sparse is deprecated and will be removed in a future version. Check `isinstance(dtype, pd.SparseDtype)` instead.\n",
      "  if is_sparse(pd_dtype):\n",
      "/home/hk/anaconda3/lib/python3.11/site-packages/sklearn/utils/validation.py:614: FutureWarning: is_sparse is deprecated and will be removed in a future version. Check `isinstance(dtype, pd.SparseDtype)` instead.\n",
      "  if is_sparse(pd_dtype) or not is_extension_array_dtype(pd_dtype):\n"
     ]
    }
   ],
   "source": [
    "df['RoofStyle'] = label_encoder.fit_transform(df['RoofStyle'])"
   ]
  },
  {
   "cell_type": "code",
   "execution_count": 36,
   "id": "2da925e5",
   "metadata": {},
   "outputs": [
    {
     "data": {
      "text/html": [
       "<div>\n",
       "<style scoped>\n",
       "    .dataframe tbody tr th:only-of-type {\n",
       "        vertical-align: middle;\n",
       "    }\n",
       "\n",
       "    .dataframe tbody tr th {\n",
       "        vertical-align: top;\n",
       "    }\n",
       "\n",
       "    .dataframe thead th {\n",
       "        text-align: right;\n",
       "    }\n",
       "</style>\n",
       "<table border=\"1\" class=\"dataframe\">\n",
       "  <thead>\n",
       "    <tr style=\"text-align: right;\">\n",
       "      <th></th>\n",
       "      <th>Id</th>\n",
       "      <th>MSSubClass</th>\n",
       "      <th>LotFrontage</th>\n",
       "      <th>LotArea</th>\n",
       "      <th>LotConfig</th>\n",
       "      <th>Neighborhood</th>\n",
       "      <th>BldgType</th>\n",
       "      <th>HouseStyle</th>\n",
       "      <th>OverallQual</th>\n",
       "      <th>OverallCond</th>\n",
       "      <th>YearBuilt</th>\n",
       "      <th>RoofStyle</th>\n",
       "      <th>TotalBsmtSF</th>\n",
       "      <th>GrLivArea</th>\n",
       "      <th>BedroomAbvGr</th>\n",
       "      <th>TotRmsAbvGrd</th>\n",
       "      <th>GarageArea</th>\n",
       "    </tr>\n",
       "  </thead>\n",
       "  <tbody>\n",
       "    <tr>\n",
       "      <th>0</th>\n",
       "      <td>1461</td>\n",
       "      <td>20.0</td>\n",
       "      <td>80</td>\n",
       "      <td>11622</td>\n",
       "      <td>4</td>\n",
       "      <td>12</td>\n",
       "      <td>0</td>\n",
       "      <td>2</td>\n",
       "      <td>5</td>\n",
       "      <td>6</td>\n",
       "      <td>1961</td>\n",
       "      <td>1</td>\n",
       "      <td>882.0</td>\n",
       "      <td>896</td>\n",
       "      <td>2</td>\n",
       "      <td>5</td>\n",
       "      <td>730.0</td>\n",
       "    </tr>\n",
       "    <tr>\n",
       "      <th>1</th>\n",
       "      <td>1462</td>\n",
       "      <td>20.0</td>\n",
       "      <td>60</td>\n",
       "      <td>14267</td>\n",
       "      <td>0</td>\n",
       "      <td>12</td>\n",
       "      <td>0</td>\n",
       "      <td>2</td>\n",
       "      <td>6</td>\n",
       "      <td>6</td>\n",
       "      <td>1958</td>\n",
       "      <td>3</td>\n",
       "      <td>1329.0</td>\n",
       "      <td>1329</td>\n",
       "      <td>3</td>\n",
       "      <td>6</td>\n",
       "      <td>312.0</td>\n",
       "    </tr>\n",
       "    <tr>\n",
       "      <th>2</th>\n",
       "      <td>1463</td>\n",
       "      <td>60.0</td>\n",
       "      <td>74</td>\n",
       "      <td>13830</td>\n",
       "      <td>4</td>\n",
       "      <td>8</td>\n",
       "      <td>0</td>\n",
       "      <td>4</td>\n",
       "      <td>5</td>\n",
       "      <td>5</td>\n",
       "      <td>1997</td>\n",
       "      <td>1</td>\n",
       "      <td>928.0</td>\n",
       "      <td>1629</td>\n",
       "      <td>3</td>\n",
       "      <td>6</td>\n",
       "      <td>482.0</td>\n",
       "    </tr>\n",
       "    <tr>\n",
       "      <th>3</th>\n",
       "      <td>1464</td>\n",
       "      <td>60.0</td>\n",
       "      <td>78</td>\n",
       "      <td>9978</td>\n",
       "      <td>4</td>\n",
       "      <td>8</td>\n",
       "      <td>0</td>\n",
       "      <td>2</td>\n",
       "      <td>6</td>\n",
       "      <td>6</td>\n",
       "      <td>1998</td>\n",
       "      <td>1</td>\n",
       "      <td>926.0</td>\n",
       "      <td>1604</td>\n",
       "      <td>3</td>\n",
       "      <td>7</td>\n",
       "      <td>470.0</td>\n",
       "    </tr>\n",
       "    <tr>\n",
       "      <th>4</th>\n",
       "      <td>1465</td>\n",
       "      <td>120.0</td>\n",
       "      <td>43</td>\n",
       "      <td>5005</td>\n",
       "      <td>4</td>\n",
       "      <td>22</td>\n",
       "      <td>4</td>\n",
       "      <td>2</td>\n",
       "      <td>8</td>\n",
       "      <td>5</td>\n",
       "      <td>1992</td>\n",
       "      <td>1</td>\n",
       "      <td>1280.0</td>\n",
       "      <td>1280</td>\n",
       "      <td>2</td>\n",
       "      <td>5</td>\n",
       "      <td>506.0</td>\n",
       "    </tr>\n",
       "  </tbody>\n",
       "</table>\n",
       "</div>"
      ],
      "text/plain": [
       "     Id  MSSubClass  LotFrontage  LotArea  LotConfig  Neighborhood  BldgType  \\\n",
       "0  1461        20.0           80    11622          4            12         0   \n",
       "1  1462        20.0           60    14267          0            12         0   \n",
       "2  1463        60.0           74    13830          4             8         0   \n",
       "3  1464        60.0           78     9978          4             8         0   \n",
       "4  1465       120.0           43     5005          4            22         4   \n",
       "\n",
       "   HouseStyle  OverallQual  OverallCond  YearBuilt  RoofStyle  TotalBsmtSF  \\\n",
       "0           2            5            6       1961          1        882.0   \n",
       "1           2            6            6       1958          3       1329.0   \n",
       "2           4            5            5       1997          1        928.0   \n",
       "3           2            6            6       1998          1        926.0   \n",
       "4           2            8            5       1992          1       1280.0   \n",
       "\n",
       "   GrLivArea  BedroomAbvGr  TotRmsAbvGrd  GarageArea  \n",
       "0        896             2             5       730.0  \n",
       "1       1329             3             6       312.0  \n",
       "2       1629             3             6       482.0  \n",
       "3       1604             3             7       470.0  \n",
       "4       1280             2             5       506.0  "
      ]
     },
     "execution_count": 36,
     "metadata": {},
     "output_type": "execute_result"
    }
   ],
   "source": [
    "df.head()"
   ]
  },
  {
   "cell_type": "code",
   "execution_count": 37,
   "id": "b02ff192",
   "metadata": {},
   "outputs": [
    {
     "name": "stdout",
     "output_type": "stream",
     "text": [
      "<class 'pandas.core.frame.DataFrame'>\n",
      "RangeIndex: 1459 entries, 0 to 1458\n",
      "Data columns (total 17 columns):\n",
      " #   Column        Non-Null Count  Dtype  \n",
      "---  ------        --------------  -----  \n",
      " 0   Id            1459 non-null   int64  \n",
      " 1   MSSubClass    1459 non-null   float64\n",
      " 2   LotFrontage   1459 non-null   int64  \n",
      " 3   LotArea       1459 non-null   int64  \n",
      " 4   LotConfig     1459 non-null   int64  \n",
      " 5   Neighborhood  1459 non-null   int64  \n",
      " 6   BldgType      1459 non-null   int64  \n",
      " 7   HouseStyle    1459 non-null   int64  \n",
      " 8   OverallQual   1459 non-null   int64  \n",
      " 9   OverallCond   1459 non-null   int64  \n",
      " 10  YearBuilt     1459 non-null   int64  \n",
      " 11  RoofStyle     1459 non-null   int64  \n",
      " 12  TotalBsmtSF   1459 non-null   float64\n",
      " 13  GrLivArea     1459 non-null   int64  \n",
      " 14  BedroomAbvGr  1459 non-null   int64  \n",
      " 15  TotRmsAbvGrd  1459 non-null   int64  \n",
      " 16  GarageArea    1459 non-null   float64\n",
      "dtypes: float64(3), int64(14)\n",
      "memory usage: 193.9 KB\n"
     ]
    }
   ],
   "source": [
    "df.info()"
   ]
  },
  {
   "cell_type": "code",
   "execution_count": 38,
   "id": "5d1ea10b",
   "metadata": {},
   "outputs": [],
   "source": [
    "df.to_excel('AfterPreprocssing1.xlsx')"
   ]
  },
  {
   "cell_type": "markdown",
   "id": "ae18b617",
   "metadata": {},
   "source": [
    "Now all columns are numerical without any null value."
   ]
  },
  {
   "cell_type": "markdown",
   "id": "552d5b85",
   "metadata": {},
   "source": [
    "Now we will apply data transformation"
   ]
  },
  {
   "cell_type": "code",
   "execution_count": 39,
   "id": "e3a11561",
   "metadata": {},
   "outputs": [
    {
     "data": {
      "text/html": [
       "<div>\n",
       "<style scoped>\n",
       "    .dataframe tbody tr th:only-of-type {\n",
       "        vertical-align: middle;\n",
       "    }\n",
       "\n",
       "    .dataframe tbody tr th {\n",
       "        vertical-align: top;\n",
       "    }\n",
       "\n",
       "    .dataframe thead th {\n",
       "        text-align: right;\n",
       "    }\n",
       "</style>\n",
       "<table border=\"1\" class=\"dataframe\">\n",
       "  <thead>\n",
       "    <tr style=\"text-align: right;\">\n",
       "      <th></th>\n",
       "      <th>Id</th>\n",
       "      <th>MSSubClass</th>\n",
       "      <th>LotFrontage</th>\n",
       "      <th>LotArea</th>\n",
       "      <th>LotConfig</th>\n",
       "      <th>Neighborhood</th>\n",
       "      <th>BldgType</th>\n",
       "      <th>HouseStyle</th>\n",
       "      <th>OverallQual</th>\n",
       "      <th>OverallCond</th>\n",
       "      <th>YearBuilt</th>\n",
       "      <th>RoofStyle</th>\n",
       "      <th>TotalBsmtSF</th>\n",
       "      <th>GrLivArea</th>\n",
       "      <th>BedroomAbvGr</th>\n",
       "      <th>TotRmsAbvGrd</th>\n",
       "      <th>GarageArea</th>\n",
       "    </tr>\n",
       "  </thead>\n",
       "  <tbody>\n",
       "    <tr>\n",
       "      <th>0</th>\n",
       "      <td>1461</td>\n",
       "      <td>20.0</td>\n",
       "      <td>80</td>\n",
       "      <td>11622</td>\n",
       "      <td>4</td>\n",
       "      <td>12</td>\n",
       "      <td>0</td>\n",
       "      <td>2</td>\n",
       "      <td>5</td>\n",
       "      <td>6</td>\n",
       "      <td>1961</td>\n",
       "      <td>1</td>\n",
       "      <td>882.0</td>\n",
       "      <td>896</td>\n",
       "      <td>2</td>\n",
       "      <td>5</td>\n",
       "      <td>730.0</td>\n",
       "    </tr>\n",
       "    <tr>\n",
       "      <th>1</th>\n",
       "      <td>1462</td>\n",
       "      <td>20.0</td>\n",
       "      <td>60</td>\n",
       "      <td>14267</td>\n",
       "      <td>0</td>\n",
       "      <td>12</td>\n",
       "      <td>0</td>\n",
       "      <td>2</td>\n",
       "      <td>6</td>\n",
       "      <td>6</td>\n",
       "      <td>1958</td>\n",
       "      <td>3</td>\n",
       "      <td>1329.0</td>\n",
       "      <td>1329</td>\n",
       "      <td>3</td>\n",
       "      <td>6</td>\n",
       "      <td>312.0</td>\n",
       "    </tr>\n",
       "    <tr>\n",
       "      <th>2</th>\n",
       "      <td>1463</td>\n",
       "      <td>60.0</td>\n",
       "      <td>74</td>\n",
       "      <td>13830</td>\n",
       "      <td>4</td>\n",
       "      <td>8</td>\n",
       "      <td>0</td>\n",
       "      <td>4</td>\n",
       "      <td>5</td>\n",
       "      <td>5</td>\n",
       "      <td>1997</td>\n",
       "      <td>1</td>\n",
       "      <td>928.0</td>\n",
       "      <td>1629</td>\n",
       "      <td>3</td>\n",
       "      <td>6</td>\n",
       "      <td>482.0</td>\n",
       "    </tr>\n",
       "    <tr>\n",
       "      <th>3</th>\n",
       "      <td>1464</td>\n",
       "      <td>60.0</td>\n",
       "      <td>78</td>\n",
       "      <td>9978</td>\n",
       "      <td>4</td>\n",
       "      <td>8</td>\n",
       "      <td>0</td>\n",
       "      <td>2</td>\n",
       "      <td>6</td>\n",
       "      <td>6</td>\n",
       "      <td>1998</td>\n",
       "      <td>1</td>\n",
       "      <td>926.0</td>\n",
       "      <td>1604</td>\n",
       "      <td>3</td>\n",
       "      <td>7</td>\n",
       "      <td>470.0</td>\n",
       "    </tr>\n",
       "    <tr>\n",
       "      <th>4</th>\n",
       "      <td>1465</td>\n",
       "      <td>120.0</td>\n",
       "      <td>43</td>\n",
       "      <td>5005</td>\n",
       "      <td>4</td>\n",
       "      <td>22</td>\n",
       "      <td>4</td>\n",
       "      <td>2</td>\n",
       "      <td>8</td>\n",
       "      <td>5</td>\n",
       "      <td>1992</td>\n",
       "      <td>1</td>\n",
       "      <td>1280.0</td>\n",
       "      <td>1280</td>\n",
       "      <td>2</td>\n",
       "      <td>5</td>\n",
       "      <td>506.0</td>\n",
       "    </tr>\n",
       "  </tbody>\n",
       "</table>\n",
       "</div>"
      ],
      "text/plain": [
       "     Id  MSSubClass  LotFrontage  LotArea  LotConfig  Neighborhood  BldgType  \\\n",
       "0  1461        20.0           80    11622          4            12         0   \n",
       "1  1462        20.0           60    14267          0            12         0   \n",
       "2  1463        60.0           74    13830          4             8         0   \n",
       "3  1464        60.0           78     9978          4             8         0   \n",
       "4  1465       120.0           43     5005          4            22         4   \n",
       "\n",
       "   HouseStyle  OverallQual  OverallCond  YearBuilt  RoofStyle  TotalBsmtSF  \\\n",
       "0           2            5            6       1961          1        882.0   \n",
       "1           2            6            6       1958          3       1329.0   \n",
       "2           4            5            5       1997          1        928.0   \n",
       "3           2            6            6       1998          1        926.0   \n",
       "4           2            8            5       1992          1       1280.0   \n",
       "\n",
       "   GrLivArea  BedroomAbvGr  TotRmsAbvGrd  GarageArea  \n",
       "0        896             2             5       730.0  \n",
       "1       1329             3             6       312.0  \n",
       "2       1629             3             6       482.0  \n",
       "3       1604             3             7       470.0  \n",
       "4       1280             2             5       506.0  "
      ]
     },
     "execution_count": 39,
     "metadata": {},
     "output_type": "execute_result"
    }
   ],
   "source": [
    "df.head()"
   ]
  },
  {
   "cell_type": "markdown",
   "id": "bdf7b55b",
   "metadata": {},
   "source": [
    "We can construct a new attribute \"House_Age\" from the attribute \"YearBuilt\"\n",
    "We can round off LotArea to the nearest 10"
   ]
  },
  {
   "cell_type": "code",
   "execution_count": 40,
   "id": "a49847fd",
   "metadata": {},
   "outputs": [],
   "source": [
    "from datetime import date\n",
    "df.insert(11, \"House_Age\", date.today().year - df['YearBuilt'])"
   ]
  },
  {
   "cell_type": "code",
   "execution_count": 41,
   "id": "0bcb840b",
   "metadata": {},
   "outputs": [],
   "source": [
    "df['LotArea'] = df['LotArea'].apply(lambda x: 10*round(x/10))"
   ]
  },
  {
   "cell_type": "code",
   "execution_count": 42,
   "id": "e80ea591",
   "metadata": {},
   "outputs": [
    {
     "data": {
      "text/html": [
       "<div>\n",
       "<style scoped>\n",
       "    .dataframe tbody tr th:only-of-type {\n",
       "        vertical-align: middle;\n",
       "    }\n",
       "\n",
       "    .dataframe tbody tr th {\n",
       "        vertical-align: top;\n",
       "    }\n",
       "\n",
       "    .dataframe thead th {\n",
       "        text-align: right;\n",
       "    }\n",
       "</style>\n",
       "<table border=\"1\" class=\"dataframe\">\n",
       "  <thead>\n",
       "    <tr style=\"text-align: right;\">\n",
       "      <th></th>\n",
       "      <th>Id</th>\n",
       "      <th>MSSubClass</th>\n",
       "      <th>LotFrontage</th>\n",
       "      <th>LotArea</th>\n",
       "      <th>LotConfig</th>\n",
       "      <th>Neighborhood</th>\n",
       "      <th>BldgType</th>\n",
       "      <th>HouseStyle</th>\n",
       "      <th>OverallQual</th>\n",
       "      <th>OverallCond</th>\n",
       "      <th>YearBuilt</th>\n",
       "      <th>House_Age</th>\n",
       "      <th>RoofStyle</th>\n",
       "      <th>TotalBsmtSF</th>\n",
       "      <th>GrLivArea</th>\n",
       "      <th>BedroomAbvGr</th>\n",
       "      <th>TotRmsAbvGrd</th>\n",
       "      <th>GarageArea</th>\n",
       "    </tr>\n",
       "  </thead>\n",
       "  <tbody>\n",
       "    <tr>\n",
       "      <th>0</th>\n",
       "      <td>1461</td>\n",
       "      <td>20.0</td>\n",
       "      <td>80</td>\n",
       "      <td>11620</td>\n",
       "      <td>4</td>\n",
       "      <td>12</td>\n",
       "      <td>0</td>\n",
       "      <td>2</td>\n",
       "      <td>5</td>\n",
       "      <td>6</td>\n",
       "      <td>1961</td>\n",
       "      <td>63</td>\n",
       "      <td>1</td>\n",
       "      <td>882.0</td>\n",
       "      <td>896</td>\n",
       "      <td>2</td>\n",
       "      <td>5</td>\n",
       "      <td>730.0</td>\n",
       "    </tr>\n",
       "    <tr>\n",
       "      <th>1</th>\n",
       "      <td>1462</td>\n",
       "      <td>20.0</td>\n",
       "      <td>60</td>\n",
       "      <td>14270</td>\n",
       "      <td>0</td>\n",
       "      <td>12</td>\n",
       "      <td>0</td>\n",
       "      <td>2</td>\n",
       "      <td>6</td>\n",
       "      <td>6</td>\n",
       "      <td>1958</td>\n",
       "      <td>66</td>\n",
       "      <td>3</td>\n",
       "      <td>1329.0</td>\n",
       "      <td>1329</td>\n",
       "      <td>3</td>\n",
       "      <td>6</td>\n",
       "      <td>312.0</td>\n",
       "    </tr>\n",
       "    <tr>\n",
       "      <th>2</th>\n",
       "      <td>1463</td>\n",
       "      <td>60.0</td>\n",
       "      <td>74</td>\n",
       "      <td>13830</td>\n",
       "      <td>4</td>\n",
       "      <td>8</td>\n",
       "      <td>0</td>\n",
       "      <td>4</td>\n",
       "      <td>5</td>\n",
       "      <td>5</td>\n",
       "      <td>1997</td>\n",
       "      <td>27</td>\n",
       "      <td>1</td>\n",
       "      <td>928.0</td>\n",
       "      <td>1629</td>\n",
       "      <td>3</td>\n",
       "      <td>6</td>\n",
       "      <td>482.0</td>\n",
       "    </tr>\n",
       "    <tr>\n",
       "      <th>3</th>\n",
       "      <td>1464</td>\n",
       "      <td>60.0</td>\n",
       "      <td>78</td>\n",
       "      <td>9980</td>\n",
       "      <td>4</td>\n",
       "      <td>8</td>\n",
       "      <td>0</td>\n",
       "      <td>2</td>\n",
       "      <td>6</td>\n",
       "      <td>6</td>\n",
       "      <td>1998</td>\n",
       "      <td>26</td>\n",
       "      <td>1</td>\n",
       "      <td>926.0</td>\n",
       "      <td>1604</td>\n",
       "      <td>3</td>\n",
       "      <td>7</td>\n",
       "      <td>470.0</td>\n",
       "    </tr>\n",
       "    <tr>\n",
       "      <th>4</th>\n",
       "      <td>1465</td>\n",
       "      <td>120.0</td>\n",
       "      <td>43</td>\n",
       "      <td>5000</td>\n",
       "      <td>4</td>\n",
       "      <td>22</td>\n",
       "      <td>4</td>\n",
       "      <td>2</td>\n",
       "      <td>8</td>\n",
       "      <td>5</td>\n",
       "      <td>1992</td>\n",
       "      <td>32</td>\n",
       "      <td>1</td>\n",
       "      <td>1280.0</td>\n",
       "      <td>1280</td>\n",
       "      <td>2</td>\n",
       "      <td>5</td>\n",
       "      <td>506.0</td>\n",
       "    </tr>\n",
       "  </tbody>\n",
       "</table>\n",
       "</div>"
      ],
      "text/plain": [
       "     Id  MSSubClass  LotFrontage  LotArea  LotConfig  Neighborhood  BldgType  \\\n",
       "0  1461        20.0           80    11620          4            12         0   \n",
       "1  1462        20.0           60    14270          0            12         0   \n",
       "2  1463        60.0           74    13830          4             8         0   \n",
       "3  1464        60.0           78     9980          4             8         0   \n",
       "4  1465       120.0           43     5000          4            22         4   \n",
       "\n",
       "   HouseStyle  OverallQual  OverallCond  YearBuilt  House_Age  RoofStyle  \\\n",
       "0           2            5            6       1961         63          1   \n",
       "1           2            6            6       1958         66          3   \n",
       "2           4            5            5       1997         27          1   \n",
       "3           2            6            6       1998         26          1   \n",
       "4           2            8            5       1992         32          1   \n",
       "\n",
       "   TotalBsmtSF  GrLivArea  BedroomAbvGr  TotRmsAbvGrd  GarageArea  \n",
       "0        882.0        896             2             5       730.0  \n",
       "1       1329.0       1329             3             6       312.0  \n",
       "2        928.0       1629             3             6       482.0  \n",
       "3        926.0       1604             3             7       470.0  \n",
       "4       1280.0       1280             2             5       506.0  "
      ]
     },
     "execution_count": 42,
     "metadata": {},
     "output_type": "execute_result"
    }
   ],
   "source": [
    "df.head()"
   ]
  },
  {
   "cell_type": "markdown",
   "id": "da509e32",
   "metadata": {},
   "source": [
    "Data Normalization Data normalization involves converting all data variables into a given range. Techniques that are used for normalization are: Min-Max Normalization Z-Score Normalization Decimal Scaling\n",
    "\n",
    "Convert LotArea in range from 10 to 50 using Min-Max Normalization"
   ]
  },
  {
   "cell_type": "code",
   "execution_count": 43,
   "id": "3ea4513b",
   "metadata": {},
   "outputs": [],
   "source": [
    "Min = df['LotArea'].min()\n",
    "Max = df['LotArea'].max()"
   ]
  },
  {
   "cell_type": "code",
   "execution_count": 44,
   "id": "cffdde64",
   "metadata": {},
   "outputs": [],
   "source": [
    "df['LotArea'] = df['LotArea'].apply(lambda x: ((x-Min)*40/(Max-Min))+10)"
   ]
  },
  {
   "cell_type": "code",
   "execution_count": 45,
   "id": "e4be0520",
   "metadata": {},
   "outputs": [],
   "source": [
    "df['LotArea'] = df['LotArea'].apply(np.floor)"
   ]
  },
  {
   "cell_type": "markdown",
   "id": "42565cbe",
   "metadata": {},
   "source": [
    "Z-score normalization In this technique, values are normalized based on mean and standard deviation of the data."
   ]
  },
  {
   "cell_type": "code",
   "execution_count": 46,
   "id": "3f7c8df9",
   "metadata": {},
   "outputs": [],
   "source": [
    "Mean = np.round(df['LotFrontage'].mean())"
   ]
  },
  {
   "cell_type": "code",
   "execution_count": 47,
   "id": "45e89792",
   "metadata": {},
   "outputs": [],
   "source": [
    "Std = df['LotFrontage'].std()"
   ]
  },
  {
   "cell_type": "code",
   "execution_count": 48,
   "id": "c7a48d0d",
   "metadata": {},
   "outputs": [],
   "source": [
    "df['LotFrontage'] = df['LotFrontage'].apply(lambda x: ((x-Mean)/Std))"
   ]
  },
  {
   "cell_type": "markdown",
   "id": "16a813fd",
   "metadata": {},
   "source": [
    "Decimal Scaling Method For Normalization To normalize the data by this technique, we divide each value of the data by the maximum absolute value of data. We are applying decimal scaling on \"TotalBsmtSF\""
   ]
  },
  {
   "cell_type": "code",
   "execution_count": 49,
   "id": "711dfd5b",
   "metadata": {},
   "outputs": [],
   "source": [
    "Maximum = df['TotalBsmtSF'].max()\n",
    "digits = len(str(Maximum))\n",
    "Abs = pow(10,digits)"
   ]
  },
  {
   "cell_type": "code",
   "execution_count": 50,
   "id": "e709ab76",
   "metadata": {},
   "outputs": [],
   "source": [
    "df['TotalBsmtSF'] = df['TotalBsmtSF'].apply(lambda x: (x/Abs))"
   ]
  },
  {
   "cell_type": "code",
   "execution_count": 51,
   "id": "6bc487ed",
   "metadata": {},
   "outputs": [
    {
     "data": {
      "text/html": [
       "<div>\n",
       "<style scoped>\n",
       "    .dataframe tbody tr th:only-of-type {\n",
       "        vertical-align: middle;\n",
       "    }\n",
       "\n",
       "    .dataframe tbody tr th {\n",
       "        vertical-align: top;\n",
       "    }\n",
       "\n",
       "    .dataframe thead th {\n",
       "        text-align: right;\n",
       "    }\n",
       "</style>\n",
       "<table border=\"1\" class=\"dataframe\">\n",
       "  <thead>\n",
       "    <tr style=\"text-align: right;\">\n",
       "      <th></th>\n",
       "      <th>Id</th>\n",
       "      <th>MSSubClass</th>\n",
       "      <th>LotFrontage</th>\n",
       "      <th>LotArea</th>\n",
       "      <th>LotConfig</th>\n",
       "      <th>Neighborhood</th>\n",
       "      <th>BldgType</th>\n",
       "      <th>HouseStyle</th>\n",
       "      <th>OverallQual</th>\n",
       "      <th>OverallCond</th>\n",
       "      <th>YearBuilt</th>\n",
       "      <th>House_Age</th>\n",
       "      <th>RoofStyle</th>\n",
       "      <th>TotalBsmtSF</th>\n",
       "      <th>GrLivArea</th>\n",
       "      <th>BedroomAbvGr</th>\n",
       "      <th>TotRmsAbvGrd</th>\n",
       "      <th>GarageArea</th>\n",
       "    </tr>\n",
       "  </thead>\n",
       "  <tbody>\n",
       "    <tr>\n",
       "      <th>0</th>\n",
       "      <td>1461</td>\n",
       "      <td>20.0</td>\n",
       "      <td>0.625210</td>\n",
       "      <td>17.0</td>\n",
       "      <td>4</td>\n",
       "      <td>12</td>\n",
       "      <td>0</td>\n",
       "      <td>2</td>\n",
       "      <td>5</td>\n",
       "      <td>6</td>\n",
       "      <td>1961</td>\n",
       "      <td>63</td>\n",
       "      <td>1</td>\n",
       "      <td>0.000882</td>\n",
       "      <td>896</td>\n",
       "      <td>2</td>\n",
       "      <td>5</td>\n",
       "      <td>730.0</td>\n",
       "    </tr>\n",
       "    <tr>\n",
       "      <th>1</th>\n",
       "      <td>1462</td>\n",
       "      <td>20.0</td>\n",
       "      <td>-0.336652</td>\n",
       "      <td>19.0</td>\n",
       "      <td>0</td>\n",
       "      <td>12</td>\n",
       "      <td>0</td>\n",
       "      <td>2</td>\n",
       "      <td>6</td>\n",
       "      <td>6</td>\n",
       "      <td>1958</td>\n",
       "      <td>66</td>\n",
       "      <td>3</td>\n",
       "      <td>0.001329</td>\n",
       "      <td>1329</td>\n",
       "      <td>3</td>\n",
       "      <td>6</td>\n",
       "      <td>312.0</td>\n",
       "    </tr>\n",
       "    <tr>\n",
       "      <th>2</th>\n",
       "      <td>1463</td>\n",
       "      <td>60.0</td>\n",
       "      <td>0.336652</td>\n",
       "      <td>18.0</td>\n",
       "      <td>4</td>\n",
       "      <td>8</td>\n",
       "      <td>0</td>\n",
       "      <td>4</td>\n",
       "      <td>5</td>\n",
       "      <td>5</td>\n",
       "      <td>1997</td>\n",
       "      <td>27</td>\n",
       "      <td>1</td>\n",
       "      <td>0.000928</td>\n",
       "      <td>1629</td>\n",
       "      <td>3</td>\n",
       "      <td>6</td>\n",
       "      <td>482.0</td>\n",
       "    </tr>\n",
       "    <tr>\n",
       "      <th>3</th>\n",
       "      <td>1464</td>\n",
       "      <td>60.0</td>\n",
       "      <td>0.529024</td>\n",
       "      <td>16.0</td>\n",
       "      <td>4</td>\n",
       "      <td>8</td>\n",
       "      <td>0</td>\n",
       "      <td>2</td>\n",
       "      <td>6</td>\n",
       "      <td>6</td>\n",
       "      <td>1998</td>\n",
       "      <td>26</td>\n",
       "      <td>1</td>\n",
       "      <td>0.000926</td>\n",
       "      <td>1604</td>\n",
       "      <td>3</td>\n",
       "      <td>7</td>\n",
       "      <td>470.0</td>\n",
       "    </tr>\n",
       "    <tr>\n",
       "      <th>4</th>\n",
       "      <td>1465</td>\n",
       "      <td>120.0</td>\n",
       "      <td>-1.154234</td>\n",
       "      <td>12.0</td>\n",
       "      <td>4</td>\n",
       "      <td>22</td>\n",
       "      <td>4</td>\n",
       "      <td>2</td>\n",
       "      <td>8</td>\n",
       "      <td>5</td>\n",
       "      <td>1992</td>\n",
       "      <td>32</td>\n",
       "      <td>1</td>\n",
       "      <td>0.001280</td>\n",
       "      <td>1280</td>\n",
       "      <td>2</td>\n",
       "      <td>5</td>\n",
       "      <td>506.0</td>\n",
       "    </tr>\n",
       "  </tbody>\n",
       "</table>\n",
       "</div>"
      ],
      "text/plain": [
       "     Id  MSSubClass  LotFrontage  LotArea  LotConfig  Neighborhood  BldgType  \\\n",
       "0  1461        20.0     0.625210     17.0          4            12         0   \n",
       "1  1462        20.0    -0.336652     19.0          0            12         0   \n",
       "2  1463        60.0     0.336652     18.0          4             8         0   \n",
       "3  1464        60.0     0.529024     16.0          4             8         0   \n",
       "4  1465       120.0    -1.154234     12.0          4            22         4   \n",
       "\n",
       "   HouseStyle  OverallQual  OverallCond  YearBuilt  House_Age  RoofStyle  \\\n",
       "0           2            5            6       1961         63          1   \n",
       "1           2            6            6       1958         66          3   \n",
       "2           4            5            5       1997         27          1   \n",
       "3           2            6            6       1998         26          1   \n",
       "4           2            8            5       1992         32          1   \n",
       "\n",
       "   TotalBsmtSF  GrLivArea  BedroomAbvGr  TotRmsAbvGrd  GarageArea  \n",
       "0     0.000882        896             2             5       730.0  \n",
       "1     0.001329       1329             3             6       312.0  \n",
       "2     0.000928       1629             3             6       482.0  \n",
       "3     0.000926       1604             3             7       470.0  \n",
       "4     0.001280       1280             2             5       506.0  "
      ]
     },
     "execution_count": 51,
     "metadata": {},
     "output_type": "execute_result"
    }
   ],
   "source": [
    "df.head()"
   ]
  },
  {
   "cell_type": "markdown",
   "id": "bb51837f",
   "metadata": {},
   "source": [
    "Learning Outcomes\n",
    "\n",
    "Got to know missing values, finding them, replacing them appropriate method. Got to know encoding methods and how to apply them. Learned how to apply data transformation and standarization.\n",
    "\n",
    "Result/ Conclusion All important functions of related to missing values have been studied and implemented in python sucessfully. Encodeing method label encoder had been studied and implemented in python sucessfully. Data transformation have been studied and implemented in python sucessfully."
   ]
  }
 ],
 "metadata": {
  "kernelspec": {
   "display_name": "Python 3 (ipykernel)",
   "language": "python",
   "name": "python3"
  },
  "language_info": {
   "codemirror_mode": {
    "name": "ipython",
    "version": 3
   },
   "file_extension": ".py",
   "mimetype": "text/x-python",
   "name": "python",
   "nbconvert_exporter": "python",
   "pygments_lexer": "ipython3",
   "version": "3.11.5"
  }
 },
 "nbformat": 4,
 "nbformat_minor": 5
}
