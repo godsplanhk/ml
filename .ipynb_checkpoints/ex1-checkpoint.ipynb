{
 "cells": [
  {
   "cell_type": "code",
   "execution_count": 1,
   "metadata": {},
   "outputs": [],
   "source": [
    "import statistics as st\n",
    "import pandas as pd"
   ]
  },
  {
   "cell_type": "code",
   "execution_count": 2,
   "metadata": {},
   "outputs": [
    {
     "name": "stdout",
     "output_type": "stream",
     "text": [
      "        price  area  bedrooms  bathrooms  stories mainroad guestroom basement  \\\n",
      "0    13300000  7420         4          2        3      yes        no       no   \n",
      "1    12250000  8960         4          4        4      yes        no       no   \n",
      "2    12250000  9960         3          2        2      yes        no      yes   \n",
      "3    12215000  7500         4          2        2      yes        no      yes   \n",
      "4    11410000  7420         4          1        2      yes       yes      yes   \n",
      "..        ...   ...       ...        ...      ...      ...       ...      ...   \n",
      "540   1820000  3000         2          1        1      yes        no      yes   \n",
      "541   1767150  2400         3          1        1       no        no       no   \n",
      "542   1750000  3620         2          1        1      yes        no       no   \n",
      "543   1750000  2910         3          1        1       no        no       no   \n",
      "544   1750000  3850         3          1        2      yes        no       no   \n",
      "\n",
      "    hotwaterheating airconditioning  parking prefarea furnishingstatus  \n",
      "0                no             yes        2      yes        furnished  \n",
      "1                no             yes        3       no        furnished  \n",
      "2                no              no        2      yes   semi-furnished  \n",
      "3                no             yes        3      yes        furnished  \n",
      "4                no             yes        2       no        furnished  \n",
      "..              ...             ...      ...      ...              ...  \n",
      "540              no              no        2       no      unfurnished  \n",
      "541              no              no        0       no   semi-furnished  \n",
      "542              no              no        0       no      unfurnished  \n",
      "543              no              no        0       no        furnished  \n",
      "544              no              no        0       no      unfurnished  \n",
      "\n",
      "[545 rows x 13 columns]\n"
     ]
    }
   ],
   "source": [
    "dataset = pd.read_csv(\"Housing.csv\")\n",
    "print(dataset)"
   ]
  },
  {
   "cell_type": "code",
   "execution_count": 3,
   "metadata": {},
   "outputs": [
    {
     "name": "stdout",
     "output_type": "stream",
     "text": [
      "The average price of house is 4766729.247706422\n"
     ]
    }
   ],
   "source": [
    "price = dataset['price']\n",
    "print(\"The average price of house is\",st.mean(price))"
   ]
  },
  {
   "cell_type": "code",
   "execution_count": 4,
   "metadata": {},
   "outputs": [
    {
     "name": "stdout",
     "output_type": "stream",
     "text": [
      "The mode price of house is 4200000\n"
     ]
    }
   ],
   "source": [
    "print(\"The mode price of house is\",st.mode(price))"
   ]
  },
  {
   "cell_type": "code",
   "execution_count": 5,
   "metadata": {},
   "outputs": [
    {
     "name": "stdout",
     "output_type": "stream",
     "text": [
      "The median value of all the prices is 4340000\n"
     ]
    }
   ],
   "source": [
    "print(\"The median value of all the prices is\",st.median(price))"
   ]
  },
  {
   "cell_type": "code",
   "execution_count": 6,
   "metadata": {},
   "outputs": [
    {
     "name": "stdout",
     "output_type": "stream",
     "text": [
      "The harmonic mean of the prices is 4152231.3412737525\n"
     ]
    }
   ],
   "source": [
    "print(\"The harmonic mean of the prices is\", st.harmonic_mean(price))"
   ]
  },
  {
   "cell_type": "code",
   "execution_count": 7,
   "metadata": {},
   "outputs": [
    {
     "name": "stdout",
     "output_type": "stream",
     "text": [
      "The median low of the price is 4340000\n"
     ]
    }
   ],
   "source": [
    "print(\"The median low of the price is\", st.median_low(price))"
   ]
  },
  {
   "cell_type": "code",
   "execution_count": 8,
   "metadata": {},
   "outputs": [
    {
     "name": "stdout",
     "output_type": "stream",
     "text": [
      "The median high of the price is 4340000\n"
     ]
    }
   ],
   "source": [
    "print(\"The median high of the price is\",st.median_high(price))"
   ]
  },
  {
   "cell_type": "code",
   "execution_count": 9,
   "metadata": {},
   "outputs": [
    {
     "name": "stdout",
     "output_type": "stream",
     "text": [
      "The grouped median of the house price is 4340000.0\n"
     ]
    }
   ],
   "source": [
    "print(\"The grouped median of the house price is\", st.median_grouped(price))"
   ]
  },
  {
   "cell_type": "code",
   "execution_count": 15,
   "metadata": {
    "scrolled": true
   },
   "outputs": [
    {
     "name": "stdout",
     "output_type": "stream",
     "text": [
      "The variance of the no. of bedrooms is  0.544738262277388\n"
     ]
    }
   ],
   "source": [
    "bedrooms = dataset['bedrooms']\n",
    "print(\"The variance of the no. of bedrooms is \", st.variance(bedrooms))"
   ]
  },
  {
   "cell_type": "code",
   "execution_count": 11,
   "metadata": {},
   "outputs": [
    {
     "name": "stdout",
     "output_type": "stream",
     "text": [
      "The pvariance of the no. of bedrooms is 0.54373874253009\n"
     ]
    }
   ],
   "source": [
    "print(\"The pvariance of the no. of bedrooms is\", st.pvariance(bedrooms))"
   ]
  },
  {
   "cell_type": "code",
   "execution_count": 12,
   "metadata": {},
   "outputs": [
    {
     "name": "stdout",
     "output_type": "stream",
     "text": [
      "The standard deviation of house prices is 1870439.6156573922\n"
     ]
    }
   ],
   "source": [
    "print(\"The standard deviation of house prices is\", st.stdev(price))"
   ]
  },
  {
   "cell_type": "code",
   "execution_count": 13,
   "metadata": {},
   "outputs": [
    {
     "name": "stdout",
     "output_type": "stream",
     "text": [
      "The mean of the dataset are:-\n",
      " price        4.766729e+06\n",
      "area         5.150541e+03\n",
      "bedrooms     2.965138e+00\n",
      "bathrooms    1.286239e+00\n",
      "dtype: float64\n",
      "The mode of the dataset are:-\n",
      "      price    area  bedrooms  bathrooms\n",
      "0  3500000  6000.0       3.0        1.0\n",
      "1  4200000     NaN       NaN        NaN\n",
      "The symmetry of the dataset are:-\n",
      " price        1.212239\n",
      "area         1.321188\n",
      "bedrooms     0.495684\n",
      "bathrooms    1.589264\n",
      "dtype: float64\n"
     ]
    }
   ],
   "source": [
    "numDataset = dataset.iloc[:,0:4]\n",
    "print(\"The mean of the dataset are:-\\n\",numDataset.mean())\n",
    "print(\"The mode of the dataset are:-\\n\",numDataset.mode())\n",
    "print(\"The symmetry of the dataset are:-\\n\",numDataset.skew())"
   ]
  },
  {
   "cell_type": "code",
   "execution_count": null,
   "metadata": {},
   "outputs": [],
   "source": []
  },
  {
   "cell_type": "code",
   "execution_count": null,
   "metadata": {},
   "outputs": [],
   "source": []
  },
  {
   "cell_type": "code",
   "execution_count": null,
   "metadata": {},
   "outputs": [],
   "source": []
  }
 ],
 "metadata": {
  "kernelspec": {
   "display_name": "Python 3 (ipykernel)",
   "language": "python",
   "name": "python3"
  },
  "language_info": {
   "codemirror_mode": {
    "name": "ipython",
    "version": 3
   },
   "file_extension": ".py",
   "mimetype": "text/x-python",
   "name": "python",
   "nbconvert_exporter": "python",
   "pygments_lexer": "ipython3",
   "version": "3.11.2"
  }
 },
 "nbformat": 4,
 "nbformat_minor": 2
}
